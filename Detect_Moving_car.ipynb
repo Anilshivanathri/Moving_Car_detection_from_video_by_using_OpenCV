{
  "nbformat": 4,
  "nbformat_minor": 0,
  "metadata": {
    "colab": {
      "provenance": [],
      "authorship_tag": "ABX9TyORC3+uPRpcPZQIjNHM6lSE"
    },
    "kernelspec": {
      "name": "python3",
      "display_name": "Python 3"
    },
    "language_info": {
      "name": "python"
    }
  },
  "cells": [
    {
      "cell_type": "markdown",
      "source": [
        "## Detect Moving Cars"
      ],
      "metadata": {
        "id": "wD58fmsNxXC9"
      }
    },
    {
      "cell_type": "code",
      "source": [
        "import cv2\n",
        "import numpy as np"
      ],
      "metadata": {
        "id": "Rq7RwOSHw4yV"
      },
      "execution_count": null,
      "outputs": []
    },
    {
      "cell_type": "code",
      "execution_count": null,
      "metadata": {
        "id": "3ONl5KDOtk1f"
      },
      "outputs": [],
      "source": [
        "carPlatesCascade = cv2.CascadeClassifier('haarcascades/haarcascade_russian_plate_number.xml')\n",
        "\n",
        "cap = cv2.VideoCapture('carVideo.mp4')\n",
        "\n",
        "cap.set(cv2.CAP_PROP_FRAME_WIDTH, 320)\n",
        "cap.set(cv2.CAP_PROP_FRAME_HEIGHT, 80)\n",
        "\n",
        "\n",
        "if (cap.isOpened()==False):\n",
        "    print('Error Reading video')\n",
        "\n",
        "while True:\n",
        "    ret,frame = cap.read()\n",
        "    gray = cv2.cvtColor(frame,cv2.COLOR_BGR2GRAY)\n",
        "    car_plates = carPlatesCascade.detectMultiScale(gray,scaleFactor=1.2,\n",
        "    minNeighbors = 5, minSize=(25,25))\n",
        "\n",
        "    for (x,y,w,h) in car_plates:\n",
        "        cv2.rectangle(frame,(x,y),(x+w,y+h),(255,0,0),2)\n",
        "        plate = frame[y: y+h, x:x+w]\n",
        "        plate = cv2.blur(plate,ksize=(20,20))\n",
        "        # put the blurred plate into the original image\n",
        "        frame[y: y+h, x:x+w,2] = plate\n",
        "\n",
        "    if ret == True:\n",
        "        cv2.imshow('Video',frame)\n",
        "\n",
        "        if cv2.waitKey(0) & 0xFF == ord('q'):\n",
        "            break\n",
        "\n",
        "    else:\n",
        "        break\n",
        "\n",
        "cap.release()\n",
        "cv2.destroyAllWindows()"
      ]
    }
  ]
}